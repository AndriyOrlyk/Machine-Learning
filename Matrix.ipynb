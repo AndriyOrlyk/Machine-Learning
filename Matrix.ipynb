{
 "cells": [
  {
   "cell_type": "code",
   "execution_count": 2,
   "metadata": {},
   "outputs": [],
   "source": [
    "import numpy as np\n",
    "import time\n",
    "import random"
   ]
  },
  {
   "cell_type": "code",
   "execution_count": 4,
   "metadata": {},
   "outputs": [],
   "source": [
    "n = 100"
   ]
  },
  {
   "cell_type": "code",
   "execution_count": 6,
   "metadata": {},
   "outputs": [],
   "source": [
    "FirstMatrix = np.random.randint(10, size=(n, n))\n",
    "SecondMatrix = np.random.randint(10, size=(n, n))"
   ]
  },
  {
   "cell_type": "code",
   "execution_count": 8,
   "metadata": {},
   "outputs": [
    {
     "name": "stdout",
     "output_type": "stream",
     "text": [
      "np: \n",
      "0.001996755599975586\n"
     ]
    }
   ],
   "source": [
    "Stime = time.time()\n",
    "ThirdMatrix = np.dot(FirstMatrix, SecondMatrix)\n",
    "Ftime = time.time()\n",
    "print(\"np: \")\n",
    "t1=(Ftime - Stime)\n",
    "print(t1)"
   ]
  },
  {
   "cell_type": "code",
   "execution_count": 10,
   "metadata": {},
   "outputs": [
    {
     "name": "stdout",
     "output_type": "stream",
     "text": [
      "own:\n",
      "1.8161444664001465\n"
     ]
    }
   ],
   "source": [
    "Stime = time.time()\n",
    "for i in range(n):\n",
    "    for j in range(n):\n",
    "        ThirdMatrix[i][j] = 0\n",
    "        for z in range(n):\n",
    "            ThirdMatrix[i][j] += FirstMatrix[i][z] * FirstMatrix[z][j]\n",
    "Ftime = time.time()\n",
    "print(\"own:\")\n",
    "t2= (Ftime - Stime)\n",
    "print (t2)"
   ]
  },
  {
   "cell_type": "code",
   "execution_count": 11,
   "metadata": {},
   "outputs": [
    {
     "name": "stdout",
     "output_type": "stream",
     "text": [
      "Difference (np - own): \n"
     ]
    },
    {
     "data": {
      "text/plain": [
       "1.814147710800171"
      ]
     },
     "execution_count": 11,
     "metadata": {},
     "output_type": "execute_result"
    }
   ],
   "source": [
    "#Difference\n",
    "print(\"Difference (np - own): \")\n",
    "t2-t1"
   ]
  },
  {
   "cell_type": "code",
   "execution_count": null,
   "metadata": {},
   "outputs": [],
   "source": []
  }
 ],
 "metadata": {
  "kernelspec": {
   "display_name": "Python 3",
   "language": "python",
   "name": "python3"
  },
  "language_info": {
   "codemirror_mode": {
    "name": "ipython",
    "version": 3
   },
   "file_extension": ".py",
   "mimetype": "text/x-python",
   "name": "python",
   "nbconvert_exporter": "python",
   "pygments_lexer": "ipython3",
   "version": "3.7.4"
  }
 },
 "nbformat": 4,
 "nbformat_minor": 2
}
